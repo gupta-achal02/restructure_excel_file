{
 "cells": [
  {
   "cell_type": "code",
   "execution_count": 262,
   "metadata": {},
   "outputs": [],
   "source": [
    "import pandas as pd\n",
    "\n",
    "def restructure(file_name):\n",
    "   \"\"\"This function takes the dataframe as its parameter\n",
    "      and restructures the file\"\"\"\n",
    "\n",
    "   # reading the xlsx file    \n",
    "   df = pd.read_excel(f\"{file_name}.xlsx\")\n",
    "\n",
    "   # renaming \"id\" to \"Username\" \n",
    "   # and removing any leading or trailing whitespaces from column names\n",
    "   df.rename({\"id\" : \"Username\"}, axis = 1, inplace = True)\n",
    "   df.rename(columns = lambda x: x.strip(), inplace = True)\n",
    "    \n",
    "   # setting Name, Username and Chapter Tag as the index for the data\n",
    "   df = df.set_index([\"Name\", \"Username\", \"Chapter Tag\"])\n",
    "\n",
    "   # splitting the columns wherever \"- \" is encountered\n",
    "   df.columns = df.columns.str.split(\"- \", expand = True)\n",
    "\n",
    "   # again removing leading or trailing whitespaces if any\n",
    "   df.rename(columns = lambda x: x.strip(), inplace = True)\n",
    "\n",
    "   # reshaping the dataframe into a stack and creating a new inner-most level \"Test_Name\"\n",
    "   df = df.stack(0).reset_index().rename(columns = {\"level_3\" : \"Test_Name\"})\n",
    "\n",
    "   # removing all rows where any test parameters are empty\n",
    "   df = df[df.answered != \"-\"]\n",
    "\n",
    "   # making an output xlsx file\n",
    "   df.to_excel(f\"{file_name}_output.xlsx\", index = False)"
   ]
  },
  {
   "cell_type": "code",
   "execution_count": 264,
   "metadata": {},
   "outputs": [],
   "source": [
    "# applying the restructure function\n",
    "# the file name must be entered without the format\n",
    "df = restructure(\"Input_1\")"
   ]
  }
 ],
 "metadata": {
  "interpreter": {
   "hash": "f544ce1a915a9875fad91c894e2c0bcad4b7a79945aa6027ef3ad27810072aa6"
  },
  "kernelspec": {
   "display_name": "Python 3.8.10 64-bit",
   "language": "python",
   "name": "python3"
  },
  "language_info": {
   "codemirror_mode": {
    "name": "ipython",
    "version": 3
   },
   "file_extension": ".py",
   "mimetype": "text/x-python",
   "name": "python",
   "nbconvert_exporter": "python",
   "pygments_lexer": "ipython3",
   "version": "3.8.10"
  },
  "orig_nbformat": 4
 },
 "nbformat": 4,
 "nbformat_minor": 2
}
